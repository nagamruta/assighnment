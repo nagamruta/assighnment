{
 "cells": [
  {
   "cell_type": "code",
   "execution_count": null,
   "metadata": {},
   "outputs": [],
   "source": [
    "'''\n",
    "1.1 Write a Python Program to implement your own myreduce() function which works exactly like \n",
    "Python's built-in function reduce()\n",
    "\n",
    "'''"
   ]
  },
  {
   "cell_type": "code",
   "execution_count": 18,
   "metadata": {},
   "outputs": [
    {
     "name": "stdout",
     "output_type": "stream",
     "text": [
      "Greatest element in the list is: 6\n"
     ]
    }
   ],
   "source": [
    "def myreduce(func,iterable):\n",
    "    first_element=iterable[0]\n",
    "    for item in iterable[1:]:\n",
    "        first_element=func(first_element,item)\n",
    "        \n",
    "    return first_element\n",
    "lst=[2,5,3,1,6,4]\n",
    "a=myreduce(lambda a,b:a if (a>b) else b,lst)\n",
    "print('Greatest element in the list is:',a)"
   ]
  },
  {
   "cell_type": "code",
   "execution_count": null,
   "metadata": {},
   "outputs": [],
   "source": [
    "'''\n",
    "1.2 Write a Python program to implement your own myfilter() function which works exactly like \n",
    "Python's built-in function filter()\n",
    "\n",
    "'''"
   ]
  },
  {
   "cell_type": "code",
   "execution_count": 41,
   "metadata": {},
   "outputs": [
    {
     "name": "stdout",
     "output_type": "stream",
     "text": [
      "[2, 4, 6, 8]\n"
     ]
    }
   ],
   "source": [
    "def myfilter(func,iterable):\n",
    "    temp_list=[]\n",
    "    for item in iterable:\n",
    "        if func(item):\n",
    "            temp_list.append(item)\n",
    "    return temp_list\n",
    "\n",
    "lst=[1,2,3,4,5,6,7,8,99]\n",
    "evennum=myfilter(lambda a:a%2==0,lst)\n",
    "print(evennum)"
   ]
  },
  {
   "cell_type": "code",
   "execution_count": null,
   "metadata": {},
   "outputs": [],
   "source": [
    "'''\n",
    "2.Implement List comprehensions to produce the following lists.\n",
    "       Write List comprehensions to produce the following Lists\n",
    "2.1 ['x', 'xx', 'xxx', 'xxxx', 'y', 'yy', 'yyy', 'yyyy', 'z', 'zz', 'zzz', 'zzzz']\n",
    "\n",
    "2.2 ['x', 'y', 'z', 'xx', 'yy', 'zz', 'xxx', 'yyy', 'zzz', 'xxxx', 'yyyy', 'zzzz']\n",
    "\n",
    "2.3 [[2], [3], [4], [3], [4], [5], [4], [5], [6]]\n",
    "\n",
    "2.4 [[2], [3], [4], [3], [4], [5], [4], [5], [6]]\n",
    "\n",
    "2.5 [(1, 1), (2, 1), (3, 1), (1, 2), (2, 2), (3, 2), (1, 3), (2, 3), (3, 3)]\n",
    "\n",
    "'''"
   ]
  },
  {
   "cell_type": "code",
   "execution_count": 17,
   "metadata": {},
   "outputs": [
    {
     "name": "stdout",
     "output_type": "stream",
     "text": [
      "['x', 'xx', 'xxx', 'xxxx', 'y', 'yy', 'yyy', 'yyyy', 'z', 'zz', 'zzz', 'zzzz']\n",
      "['x', 'y', 'z', 'xx', 'yy', 'zz', 'xxx', 'yyy', 'zzz', 'xxxx', 'yyyy', 'zzzz']\n",
      "[[2], [3], [4], [3], [4], [5], [4], [5], [6]]\n",
      "[[2, 3, 4, 5], [3, 4, 5, 6], [4, 5, 6, 7], [5, 6, 7, 8]]\n",
      "[(1, 1), (2, 1), (3, 1), (1, 2), (2, 2), (3, 2), (1, 3), (2, 3), (3, 3)]\n"
     ]
    }
   ],
   "source": [
    "#soln 2.1\n",
    "list_1=[i*j for i in['x','y','z'] for j in range(1,5)]\n",
    "print(list_1)\n",
    "\n",
    "#soln 2.2\n",
    "list_2=[i*j for i in range(1,5) for j in['x','y','z']]\n",
    "print(list_2)\n",
    "\n",
    "#soln2.3\n",
    "list_3=[[i+j] for i in [0,1,2] for j in range(2,5)]\n",
    "print(list_3)\n",
    "\n",
    "#soln2.4\n",
    "list_4=[[i+j for i in range(2,6)] for j in range(0,4)]\n",
    "print(list_4)\n",
    "\n",
    "#soln2.5\n",
    "list_5=[(j,i) for i in range(1,4) for j in range(1,4)]\n",
    "print(list_5)\n",
    "        "
   ]
  },
  {
   "cell_type": "code",
   "execution_count": null,
   "metadata": {},
   "outputs": [],
   "source": []
  },
  {
   "cell_type": "code",
   "execution_count": null,
   "metadata": {},
   "outputs": [],
   "source": []
  }
 ],
 "metadata": {
  "kernelspec": {
   "display_name": "Python 3",
   "language": "python",
   "name": "python3"
  },
  "language_info": {
   "codemirror_mode": {
    "name": "ipython",
    "version": 3
   },
   "file_extension": ".py",
   "mimetype": "text/x-python",
   "name": "python",
   "nbconvert_exporter": "python",
   "pygments_lexer": "ipython3",
   "version": "3.7.4"
  }
 },
 "nbformat": 4,
 "nbformat_minor": 2
}
